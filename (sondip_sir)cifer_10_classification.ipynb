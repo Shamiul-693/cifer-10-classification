{
  "cells": [
    {
      "cell_type": "markdown",
      "id": "e29a5fa0",
      "metadata": {
        "papermill": {
          "duration": 0.018188,
          "end_time": "2021-08-25T17:14:02.986997",
          "exception": false,
          "start_time": "2021-08-25T17:14:02.968809",
          "status": "completed"
        },
        "tags": [],
        "id": "e29a5fa0"
      },
      "source": [
        "## <font color=\"blue\">L Cifer-10 dataset and classification by using CNN deep learning .<font>\n",
        "    \n",
        "### What is Cifer-10?\n",
        "    CIFAR-10 is a dataset that consists of 60000 32x32 colour images in 10 classes like\n",
        "    \"airplane\",\"automobile\",\"bird\",\"cat\",\"deer\",\"dog\",\"frog\" .etc.\n",
        "    \n",
        "### What is CNN?\n",
        "    CNN stands for Convolutional Neural Network. CNN is a most commonly applied to analyze\n",
        "    visual imagery like this."
      ]
    },
    {
      "cell_type": "markdown",
      "id": "9eba2d13",
      "metadata": {
        "papermill": {
          "duration": 0.017121,
          "end_time": "2021-08-25T17:14:03.021365",
          "exception": false,
          "start_time": "2021-08-25T17:14:03.004244",
          "status": "completed"
        },
        "tags": [],
        "id": "9eba2d13"
      },
      "source": [
        "## 1. load dataset."
      ]
    },
    {
      "cell_type": "code",
      "execution_count": null,
      "id": "a85e8ad2",
      "metadata": {
        "execution": {
          "iopub.execute_input": "2021-08-25T17:14:03.066996Z",
          "iopub.status.busy": "2021-08-25T17:14:03.066364Z",
          "iopub.status.idle": "2021-08-25T17:14:07.373013Z",
          "shell.execute_reply": "2021-08-25T17:14:07.372456Z",
          "shell.execute_reply.started": "2021-08-25T15:53:45.746451Z"
        },
        "papermill": {
          "duration": 4.334349,
          "end_time": "2021-08-25T17:14:07.373193",
          "exception": false,
          "start_time": "2021-08-25T17:14:03.038844",
          "status": "completed"
        },
        "tags": [],
        "id": "a85e8ad2"
      },
      "outputs": [],
      "source": [
        "from keras.datasets import cifar10"
      ]
    },
    {
      "cell_type": "markdown",
      "id": "6873a4fd",
      "metadata": {
        "papermill": {
          "duration": 0.016813,
          "end_time": "2021-08-25T17:14:07.407432",
          "exception": false,
          "start_time": "2021-08-25T17:14:07.390619",
          "status": "completed"
        },
        "tags": [],
        "id": "6873a4fd"
      },
      "source": [
        "## 2. import libraries"
      ]
    },
    {
      "cell_type": "code",
      "execution_count": null,
      "id": "87cd6f22",
      "metadata": {
        "execution": {
          "iopub.execute_input": "2021-08-25T17:14:07.446770Z",
          "iopub.status.busy": "2021-08-25T17:14:07.446260Z",
          "iopub.status.idle": "2021-08-25T17:14:07.449984Z",
          "shell.execute_reply": "2021-08-25T17:14:07.449589Z",
          "shell.execute_reply.started": "2021-08-25T15:53:50.207383Z"
        },
        "papermill": {
          "duration": 0.025681,
          "end_time": "2021-08-25T17:14:07.450104",
          "exception": false,
          "start_time": "2021-08-25T17:14:07.424423",
          "status": "completed"
        },
        "tags": [],
        "id": "87cd6f22"
      },
      "outputs": [],
      "source": [
        "#import libraries\n",
        "import numpy as np\n",
        "import pandas as pd\n",
        "import matplotlib.pyplot as plt\n",
        "from tensorflow import keras as kr\n",
        "from tensorflow.keras.models import Sequential\n",
        "from tensorflow.keras.layers import Conv2D\n",
        "from tensorflow.keras.layers import MaxPooling2D\n",
        "from tensorflow.keras.layers import Dense, Activation, Flatten\n",
        "from tensorflow.keras.optimizers import Adam"
      ]
    },
    {
      "cell_type": "markdown",
      "id": "1f2fb00e",
      "metadata": {
        "papermill": {
          "duration": 0.016799,
          "end_time": "2021-08-25T17:14:07.483665",
          "exception": false,
          "start_time": "2021-08-25T17:14:07.466866",
          "status": "completed"
        },
        "tags": [],
        "id": "1f2fb00e"
      },
      "source": [
        "## 3. Split the dataset into x_train,y_train,x_test,y_test."
      ]
    },
    {
      "cell_type": "code",
      "execution_count": null,
      "id": "df8e956f",
      "metadata": {
        "execution": {
          "iopub.execute_input": "2021-08-25T17:14:07.522325Z",
          "iopub.status.busy": "2021-08-25T17:14:07.521768Z",
          "iopub.status.idle": "2021-08-25T17:14:13.147158Z",
          "shell.execute_reply": "2021-08-25T17:14:13.147585Z",
          "shell.execute_reply.started": "2021-08-25T15:54:20.650445Z"
        },
        "papermill": {
          "duration": 5.647158,
          "end_time": "2021-08-25T17:14:13.147762",
          "exception": false,
          "start_time": "2021-08-25T17:14:07.500604",
          "status": "completed"
        },
        "tags": [],
        "colab": {
          "base_uri": "https://localhost:8080/"
        },
        "id": "df8e956f",
        "outputId": "05de686a-e4ea-4143-c991-40b7098b0dc0"
      },
      "outputs": [
        {
          "output_type": "stream",
          "name": "stdout",
          "text": [
            "Downloading data from https://www.cs.toronto.edu/~kriz/cifar-10-python.tar.gz\n",
            "170498071/170498071 [==============================] - 6s 0us/step\n"
          ]
        }
      ],
      "source": [
        "#load cifer10 dataset and split it.\n",
        "(x_train, y_train), (x_test, y_test) = cifar10.load_data()"
      ]
    },
    {
      "cell_type": "markdown",
      "id": "04ea8db2",
      "metadata": {
        "papermill": {
          "duration": 0.035686,
          "end_time": "2021-08-25T17:14:13.220179",
          "exception": false,
          "start_time": "2021-08-25T17:14:13.184493",
          "status": "completed"
        },
        "tags": [],
        "id": "04ea8db2"
      },
      "source": [
        "## 4. Change train data and test data into float32 and divide by 255.\n",
        "Your guess is correct, dividing an image by 255 simply rescales the image from 0-255 to 0-1. (Converting it to float from int makes computation convenient too) However, neither is required. When zero-centering the data,the mean The pixel values in a grayscale image are in [0, 255]"
      ]
    },
    {
      "cell_type": "code",
      "execution_count": null,
      "id": "1e85e86d",
      "metadata": {
        "execution": {
          "iopub.execute_input": "2021-08-25T17:14:13.294500Z",
          "iopub.status.busy": "2021-08-25T17:14:13.293409Z",
          "iopub.status.idle": "2021-08-25T17:14:13.540814Z",
          "shell.execute_reply": "2021-08-25T17:14:13.541222Z",
          "shell.execute_reply.started": "2021-08-25T15:56:01.310519Z"
        },
        "papermill": {
          "duration": 0.286489,
          "end_time": "2021-08-25T17:14:13.541391",
          "exception": false,
          "start_time": "2021-08-25T17:14:13.254902",
          "status": "completed"
        },
        "tags": [],
        "id": "1e85e86d"
      },
      "outputs": [],
      "source": [
        "#change train data and test data into float32 and divide by 255\n",
        "#That normalizes data from 1 to 0. \n",
        "x_train = x_train.astype('float32')/255\n",
        "y_train = y_train.astype('float32')\n",
        "x_test = x_test.astype('float32')/255\n"
      ]
    },
    {
      "cell_type": "markdown",
      "id": "afeaa081",
      "metadata": {
        "papermill": {
          "duration": 0.034705,
          "end_time": "2021-08-25T17:14:13.611152",
          "exception": false,
          "start_time": "2021-08-25T17:14:13.576447",
          "status": "completed"
        },
        "tags": [],
        "id": "afeaa081"
      },
      "source": [
        "## 5. Convert y_train and y_test into 10 categories"
      ]
    },
    {
      "cell_type": "code",
      "execution_count": null,
      "id": "06a44976",
      "metadata": {
        "execution": {
          "iopub.execute_input": "2021-08-25T17:14:13.686365Z",
          "iopub.status.busy": "2021-08-25T17:14:13.685505Z",
          "iopub.status.idle": "2021-08-25T17:14:13.690316Z",
          "shell.execute_reply": "2021-08-25T17:14:13.689894Z",
          "shell.execute_reply.started": "2021-08-25T15:57:31.998002Z"
        },
        "papermill": {
          "duration": 0.0434,
          "end_time": "2021-08-25T17:14:13.690428",
          "exception": false,
          "start_time": "2021-08-25T17:14:13.647028",
          "status": "completed"
        },
        "tags": [],
        "id": "06a44976"
      },
      "outputs": [],
      "source": [
        "#convert y_train and y_test into 10 categories\n",
        "y_train = kr.utils.to_categorical(y_train, 10)\n",
        "y_test  = kr.utils.to_categorical(y_test,10)"
      ]
    },
    {
      "cell_type": "markdown",
      "id": "46812e29",
      "metadata": {
        "papermill": {
          "duration": 0.03462,
          "end_time": "2021-08-25T17:14:13.759831",
          "exception": false,
          "start_time": "2021-08-25T17:14:13.725211",
          "status": "completed"
        },
        "tags": [],
        "id": "46812e29"
      },
      "source": [
        "## 6. Let's show images of Cifer-10 images."
      ]
    },
    {
      "cell_type": "code",
      "execution_count": null,
      "id": "02633313",
      "metadata": {
        "execution": {
          "iopub.execute_input": "2021-08-25T17:14:13.849221Z",
          "iopub.status.busy": "2021-08-25T17:14:13.848516Z",
          "iopub.status.idle": "2021-08-25T17:14:14.585819Z",
          "shell.execute_reply": "2021-08-25T17:14:14.585358Z",
          "shell.execute_reply.started": "2021-08-25T16:27:16.644909Z"
        },
        "papermill": {
          "duration": 0.791199,
          "end_time": "2021-08-25T17:14:14.585935",
          "exception": false,
          "start_time": "2021-08-25T17:14:13.794736",
          "status": "completed"
        },
        "tags": [],
        "colab": {
          "base_uri": "https://localhost:8080/",
          "height": 229
        },
        "id": "02633313",
        "outputId": "5537f96c-289a-4c63-9e7d-fa3e1392eca0"
      },
      "outputs": [
        {
          "output_type": "display_data",
          "data": {
            "text/plain": [
              "<Figure size 576x576 with 10 Axes>"
            ],
            "image/png": "[encoded data removed]"
          },
          "metadata": {
            "needs_background": "light"
          }
        }
      ],
      "source": [
        "plt.figure(figsize=(8,8))\n",
        "for i in range(10):\n",
        "    plt.subplot(5, 5, i+1)\n",
        "    plt.title(i)\n",
        "    plt.imshow(x_train[i].reshape(32,32,3))"
      ]
    },
    {
      "cell_type": "markdown",
      "id": "2c1d2879",
      "metadata": {
        "papermill": {
          "duration": 0.037822,
          "end_time": "2021-08-25T17:14:14.662201",
          "exception": false,
          "start_time": "2021-08-25T17:14:14.624379",
          "status": "completed"
        },
        "tags": [],
        "id": "2c1d2879"
      },
      "source": [
        "## 7. Let's build 1st CNN model with Adam optimizer."
      ]
    },
    {
      "cell_type": "code",
      "execution_count": null,
      "id": "c49f6e52",
      "metadata": {
        "execution": {
          "iopub.execute_input": "2021-08-25T17:14:14.744206Z",
          "iopub.status.busy": "2021-08-25T17:14:14.743661Z",
          "iopub.status.idle": "2021-08-25T17:14:16.720696Z",
          "shell.execute_reply": "2021-08-25T17:14:16.721479Z",
          "shell.execute_reply.started": "2021-08-25T16:31:55.140518Z"
        },
        "papermill": {
          "duration": 2.02154,
          "end_time": "2021-08-25T17:14:16.721672",
          "exception": false,
          "start_time": "2021-08-25T17:14:14.700132",
          "status": "completed"
        },
        "tags": [],
        "colab": {
          "base_uri": "https://localhost:8080/"
        },
        "id": "c49f6e52",
        "outputId": "ea6a1776-bd93-41f8-9513-9a6a94974e92"
      },
      "outputs": [
        {
          "output_type": "stream",
          "name": "stdout",
          "text": [
            "Model: \"sequential_1\"\n",
            "_________________________________________________________________\n",
            " Layer (type)                Output Shape              Param #   \n",
            "=================================================================\n",
            " conv2d_2 (Conv2D)           (None, 32, 32, 32)        896       \n",
            "                                                                 \n",
            " conv2d_3 (Conv2D)           (None, 32, 32, 32)        9248      \n",
            "                                                                 \n",
            " max_pooling2d_1 (MaxPooling  (None, 16, 16, 32)       0         \n",
            " 2D)                                                             \n",
            "                                                                 \n",
            " flatten_1 (Flatten)         (None, 8192)              0         \n",
            "                                                                 \n",
            " dense_2 (Dense)             (None, 512)               4194816   \n",
            "                                                                 \n",
            " dense_3 (Dense)             (None, 10)                5130      \n",
            "                                                                 \n",
            "=================================================================\n",
            "Total params: 4,210,090\n",
            "Trainable params: 4,210,090\n",
            "Non-trainable params: 0\n",
            "_________________________________________________________________\n"
          ]
        }
      ],
      "source": [
        "#build 1st model\n",
        "model = Sequential()\n",
        "model.add(Conv2D(32,(3,3), activation='relu',padding='same', input_shape=x_train.shape[1:]))\n",
        "model.add(Conv2D(32,(3,3),padding='same', activation='relu'))\n",
        "model.add(MaxPooling2D(pool_size=(2, 2)))\n",
        "model.add(Flatten())\n",
        "model.add(Dense(512, activation='relu'))\n",
        "model.add(Dense(10, activation='softmax'))\n",
        "model.compile(optimizer='adam',loss='categorical_crossentropy', metrics=['accuracy'])\n",
        "model.summary()"
      ]
    },
    {
      "cell_type": "markdown",
      "id": "a7c4a496",
      "metadata": {
        "papermill": {
          "duration": 0.038422,
          "end_time": "2021-08-25T17:14:16.799509",
          "exception": false,
          "start_time": "2021-08-25T17:14:16.761087",
          "status": "completed"
        },
        "tags": [],
        "id": "a7c4a496"
      },
      "source": [
        "## 8. Let's fit 1st CNN model with Adam optimizer. "
      ]
    },
    {
      "cell_type": "code",
      "execution_count": null,
      "id": "a971bc72",
      "metadata": {
        "execution": {
          "iopub.execute_input": "2021-08-25T17:14:16.880531Z",
          "iopub.status.busy": "2021-08-25T17:14:16.879918Z",
          "iopub.status.idle": "2021-08-25T17:15:10.170760Z",
          "shell.execute_reply": "2021-08-25T17:15:10.170334Z",
          "shell.execute_reply.started": "2021-08-25T16:31:59.027825Z"
        },
        "papermill": {
          "duration": 53.332992,
          "end_time": "2021-08-25T17:15:10.170885",
          "exception": false,
          "start_time": "2021-08-25T17:14:16.837893",
          "status": "completed"
        },
        "tags": [],
        "colab": {
          "base_uri": "https://localhost:8080/"
        },
        "id": "a971bc72",
        "outputId": "96e67bcb-68a1-4de4-d10e-8ee9956aa949"
      },
      "outputs": [
        {
          "output_type": "stream",
          "name": "stdout",
          "text": [
            "Epoch 1/20\n",
            "391/391 [==============================] - 12s 9ms/step - loss: 1.3568 - accuracy: 0.5187\n",
            "Epoch 2/20\n",
            "391/391 [==============================] - 3s 9ms/step - loss: 0.9633 - accuracy: 0.6632\n",
            "Epoch 3/20\n",
            "391/391 [==============================] - 3s 9ms/step - loss: 0.7914 - accuracy: 0.7252\n",
            "Epoch 4/20\n",
            "391/391 [==============================] - 3s 9ms/step - loss: 0.6398 - accuracy: 0.7775\n",
            "Epoch 5/20\n",
            "391/391 [==============================] - 3s 9ms/step - loss: 0.4813 - accuracy: 0.8349\n",
            "Epoch 6/20\n",
            "391/391 [==============================] - 3s 9ms/step - loss: 0.3300 - accuracy: 0.8899\n",
            "Epoch 7/20\n",
            "391/391 [==============================] - 3s 9ms/step - loss: 0.1981 - accuracy: 0.9367\n",
            "Epoch 8/20\n",
            "391/391 [==============================] - 3s 9ms/step - loss: 0.1131 - accuracy: 0.9660\n",
            "Epoch 9/20\n",
            "391/391 [==============================] - 3s 9ms/step - loss: 0.0627 - accuracy: 0.9830\n",
            "Epoch 10/20\n",
            "391/391 [==============================] - 3s 9ms/step - loss: 0.0448 - accuracy: 0.9878\n",
            "Epoch 11/20\n",
            "391/391 [==============================] - 3s 9ms/step - loss: 0.0462 - accuracy: 0.9859\n",
            "Epoch 12/20\n",
            "391/391 [==============================] - 3s 9ms/step - loss: 0.0537 - accuracy: 0.9833\n",
            "Epoch 13/20\n",
            "391/391 [==============================] - 3s 9ms/step - loss: 0.0363 - accuracy: 0.9891\n",
            "Epoch 14/20\n",
            "391/391 [==============================] - 3s 9ms/step - loss: 0.0341 - accuracy: 0.9897\n",
            "Epoch 15/20\n",
            "391/391 [==============================] - 3s 9ms/step - loss: 0.0417 - accuracy: 0.9866\n",
            "Epoch 16/20\n",
            "391/391 [==============================] - 3s 9ms/step - loss: 0.0378 - accuracy: 0.9878\n",
            "Epoch 17/20\n",
            "391/391 [==============================] - 3s 9ms/step - loss: 0.0273 - accuracy: 0.9915\n",
            "Epoch 18/20\n",
            "391/391 [==============================] - 3s 9ms/step - loss: 0.0247 - accuracy: 0.9920\n",
            "Epoch 19/20\n",
            "391/391 [==============================] - 3s 9ms/step - loss: 0.0370 - accuracy: 0.9869\n",
            "Epoch 20/20\n",
            "391/391 [==============================] - 3s 9ms/step - loss: 0.0328 - accuracy: 0.9892\n"
          ]
        }
      ],
      "source": [
        "#model fitting\n",
        "result1=model.fit(x_train, y_train,batch_size=128, epochs=20)"
      ]
    },
    {
      "cell_type": "markdown",
      "id": "5b731bf2",
      "metadata": {
        "papermill": {
          "duration": 0.266551,
          "end_time": "2021-08-25T17:15:10.708189",
          "exception": false,
          "start_time": "2021-08-25T17:15:10.441638",
          "status": "completed"
        },
        "tags": [],
        "id": "5b731bf2"
      },
      "source": [
        "## 9. Let's build 2nd CNN model with RMSprop optimizer. "
      ]
    },
    {
      "cell_type": "code",
      "execution_count": null,
      "id": "09bedc8f",
      "metadata": {
        "execution": {
          "iopub.execute_input": "2021-08-25T17:15:11.256363Z",
          "iopub.status.busy": "2021-08-25T17:15:11.255689Z",
          "iopub.status.idle": "2021-08-25T17:15:11.308336Z",
          "shell.execute_reply": "2021-08-25T17:15:11.308868Z",
          "shell.execute_reply.started": "2021-08-25T16:34:48.813015Z"
        },
        "papermill": {
          "duration": 0.333139,
          "end_time": "2021-08-25T17:15:11.309057",
          "exception": false,
          "start_time": "2021-08-25T17:15:10.975918",
          "status": "completed"
        },
        "tags": [],
        "colab": {
          "base_uri": "https://localhost:8080/"
        },
        "id": "09bedc8f",
        "outputId": "f28f0274-b618-4ff2-b838-1d8f6f446d79"
      },
      "outputs": [
        {
          "output_type": "stream",
          "name": "stdout",
          "text": [
            "Model: \"sequential_2\"\n",
            "_________________________________________________________________\n",
            " Layer (type)                Output Shape              Param #   \n",
            "=================================================================\n",
            " conv2d_4 (Conv2D)           (None, 32, 32, 32)        896       \n",
            "                                                                 \n",
            " conv2d_5 (Conv2D)           (None, 32, 32, 32)        9248      \n",
            "                                                                 \n",
            " max_pooling2d_2 (MaxPooling  (None, 16, 16, 32)       0         \n",
            " 2D)                                                             \n",
            "                                                                 \n",
            " flatten_2 (Flatten)         (None, 8192)              0         \n",
            "                                                                 \n",
            " dense_4 (Dense)             (None, 128)               1048704   \n",
            "                                                                 \n",
            " dense_5 (Dense)             (None, 10)                1290      \n",
            "                                                                 \n",
            "=================================================================\n",
            "Total params: 1,060,138\n",
            "Trainable params: 1,060,138\n",
            "Non-trainable params: 0\n",
            "_________________________________________________________________\n"
          ]
        }
      ],
      "source": [
        "#Build 2nd model.\n",
        "model = Sequential()\n",
        "model.add(Conv2D(32,(3,3), activation='relu',padding='same', input_shape=x_train.shape[1:]))\n",
        "model.add(Conv2D(32,(3,3),padding='same', activation='relu'))\n",
        "model.add(MaxPooling2D(pool_size=(2, 2)))\n",
        "model.add(Flatten())\n",
        "model.add(Dense(128, activation='relu'))\n",
        "model.add(Dense(10, activation='softmax'))\n",
        "model.compile(optimizer='rmsprop',loss='categorical_crossentropy', metrics=['accuracy'])\n",
        "model.summary()\n"
      ]
    },
    {
      "cell_type": "markdown",
      "id": "2dffd86e",
      "metadata": {
        "papermill": {
          "duration": 0.267736,
          "end_time": "2021-08-25T17:15:11.845682",
          "exception": false,
          "start_time": "2021-08-25T17:15:11.577946",
          "status": "completed"
        },
        "tags": [],
        "id": "2dffd86e"
      },
      "source": [
        "## 10. Let's fit 2nd CNN model with RMSprop optimizer. "
      ]
    },
    {
      "cell_type": "code",
      "execution_count": null,
      "id": "4e30cb70",
      "metadata": {
        "execution": {
          "iopub.execute_input": "2021-08-25T17:15:12.644581Z",
          "iopub.status.busy": "2021-08-25T17:15:12.643696Z",
          "iopub.status.idle": "2021-08-25T17:15:56.810374Z",
          "shell.execute_reply": "2021-08-25T17:15:56.809882Z",
          "shell.execute_reply.started": "2021-08-25T16:34:51.889374Z"
        },
        "papermill": {
          "duration": 44.662152,
          "end_time": "2021-08-25T17:15:56.810499",
          "exception": false,
          "start_time": "2021-08-25T17:15:12.148347",
          "status": "completed"
        },
        "tags": [],
        "colab": {
          "base_uri": "https://localhost:8080/"
        },
        "id": "4e30cb70",
        "outputId": "a31da0d3-a3ce-43bb-fc9b-1bccdc2cd060"
      },
      "outputs": [
        {
          "output_type": "stream",
          "name": "stdout",
          "text": [
            "Epoch 1/20\n",
            "391/391 [==============================] - 4s 8ms/step - loss: 1.5410 - accuracy: 0.4535\n",
            "Epoch 2/20\n",
            "391/391 [==============================] - 3s 8ms/step - loss: 1.1204 - accuracy: 0.6104\n",
            "Epoch 3/20\n",
            "391/391 [==============================] - 3s 8ms/step - loss: 0.9476 - accuracy: 0.6703\n",
            "Epoch 4/20\n",
            "391/391 [==============================] - 3s 8ms/step - loss: 0.8213 - accuracy: 0.7138\n",
            "Epoch 5/20\n",
            "391/391 [==============================] - 3s 8ms/step - loss: 0.7140 - accuracy: 0.7537\n",
            "Epoch 6/20\n",
            "391/391 [==============================] - 4s 11ms/step - loss: 0.6100 - accuracy: 0.7913\n",
            "Epoch 7/20\n",
            "391/391 [==============================] - 3s 9ms/step - loss: 0.5089 - accuracy: 0.8249\n",
            "Epoch 8/20\n",
            "391/391 [==============================] - 4s 9ms/step - loss: 0.4132 - accuracy: 0.8583\n",
            "Epoch 9/20\n",
            "391/391 [==============================] - 3s 8ms/step - loss: 0.3312 - accuracy: 0.8867\n",
            "Epoch 10/20\n",
            "391/391 [==============================] - 3s 8ms/step - loss: 0.2522 - accuracy: 0.9155\n",
            "Epoch 11/20\n",
            "391/391 [==============================] - 3s 8ms/step - loss: 0.1925 - accuracy: 0.9369\n",
            "Epoch 12/20\n",
            "391/391 [==============================] - 3s 8ms/step - loss: 0.1439 - accuracy: 0.9525\n",
            "Epoch 13/20\n",
            "391/391 [==============================] - 3s 8ms/step - loss: 0.1085 - accuracy: 0.9650\n",
            "Epoch 14/20\n",
            "391/391 [==============================] - 3s 8ms/step - loss: 0.0828 - accuracy: 0.9731\n",
            "Epoch 15/20\n",
            "391/391 [==============================] - 3s 8ms/step - loss: 0.0681 - accuracy: 0.9788\n",
            "Epoch 16/20\n",
            "391/391 [==============================] - 3s 8ms/step - loss: 0.0544 - accuracy: 0.9823\n",
            "Epoch 17/20\n",
            "391/391 [==============================] - 3s 8ms/step - loss: 0.0510 - accuracy: 0.9842\n",
            "Epoch 18/20\n",
            "391/391 [==============================] - 3s 8ms/step - loss: 0.0428 - accuracy: 0.9861\n",
            "Epoch 19/20\n",
            "391/391 [==============================] - 3s 8ms/step - loss: 0.0390 - accuracy: 0.9869\n",
            "Epoch 20/20\n",
            "391/391 [==============================] - 3s 8ms/step - loss: 0.0367 - accuracy: 0.9887\n"
          ]
        }
      ],
      "source": [
        "#model fitting\n",
        "result2=model.fit(x_train, y_train,batch_size=128, epochs=20)"
      ]
    },
    {
      "cell_type": "markdown",
      "source": [
        "## 11. Evaluate the two models by using two metrics, loss and accuracy."
      ],
      "metadata": {
        "id": "eT7IYgKqRt2e"
      },
      "id": "eT7IYgKqRt2e"
    },
    {
      "cell_type": "code",
      "source": [
        "#Evaluate the two models by using two metrics, loss and accuracy.\n",
        "metrics = ['loss', 'accuracy']\n",
        "#show the evaluation result by using matoplot.\n",
        "plt.figure(figsize=(10, 5))\n",
        "#Use \"For Loop\".\n",
        "for i in range(len(metrics)):\n",
        "    metric = metrics[i]\n",
        "    #set subplots to show the result\n",
        "    plt.subplot(1, 2, i+1)\n",
        "    #Titles of subplots are \"loss\" and \"accuracy\"\n",
        "    plt.title(metric) \n",
        "    plt_result1 = result1.history[metric] \n",
        "    plt_result2 = result2.history[metric]\n",
        "   \n",
        "\n",
        "    #plot them all\n",
        "    plt.plot(plt_result1, label='1st model') \n",
        "    plt.plot(plt_result2, label='2nd model') \n",
        "   \n",
        "    plt.legend() \n",
        "plt.show()"
      ],
      "metadata": {
        "colab": {
          "base_uri": "https://localhost:8080/",
          "height": 336
        },
        "id": "CDvmYaxgRtoe",
        "outputId": "249d9d00-8e0f-4308-8b3b-62f0e4193379"
      },
      "id": "CDvmYaxgRtoe",
      "execution_count": null,
      "outputs": [
        {
          "output_type": "display_data",
          "data": {
            "text/plain": [
              "<Figure size 720x360 with 2 Axes>"
            ],
            "image/png": "[encoded data removed]"
          },
          "metadata": {
            "needs_background": "light"
          }
        }
      ]
    },
    {
      "cell_type": "code",
      "source": [],
      "metadata": {
        "id": "tnYIiDeZRoVS"
      },
      "id": "tnYIiDeZRoVS",
      "execution_count": null,
      "outputs": []
    },
    {
      "cell_type": "markdown",
      "source": [
        "#3rd model usign SGD"
      ],
      "metadata": {
        "id": "GkUhRkjrNT1Q"
      },
      "id": "GkUhRkjrNT1Q"
    },
    {
      "cell_type": "code",
      "source": [
        "#Build 3rd model.\n",
        "model = Sequential()\n",
        "model.add(Conv2D(32,(3,3), activation='relu',padding='same', input_shape=x_train.shape[1:]))\n",
        "model.add(Conv2D(32,(3,3),padding='same', activation='relu'))\n",
        "model.add(MaxPooling2D(pool_size=(2, 2)))\n",
        "model.add(Flatten())\n",
        "model.add(Dense(128, activation='relu'))\n",
        "model.add(Dense(10, activation='softmax'))\n",
        "model.compile(optimizer='SGD',loss='categorical_crossentropy', metrics=['accuracy'])\n",
        "model.summary()"
      ],
      "metadata": {
        "colab": {
          "base_uri": "https://localhost:8080/"
        },
        "id": "ppqi3CjHNQq1",
        "outputId": "41267b93-0d82-44ac-84a6-22421dd5e0e7"
      },
      "id": "ppqi3CjHNQq1",
      "execution_count": null,
      "outputs": [
        {
          "output_type": "stream",
          "name": "stdout",
          "text": [
            "Model: \"sequential_4\"\n",
            "_________________________________________________________________\n",
            " Layer (type)                Output Shape              Param #   \n",
            "=================================================================\n",
            " conv2d_8 (Conv2D)           (None, 32, 32, 32)        896       \n",
            "                                                                 \n",
            " conv2d_9 (Conv2D)           (None, 32, 32, 32)        9248      \n",
            "                                                                 \n",
            " max_pooling2d_4 (MaxPooling  (None, 16, 16, 32)       0         \n",
            " 2D)                                                             \n",
            "                                                                 \n",
            " flatten_4 (Flatten)         (None, 8192)              0         \n",
            "                                                                 \n",
            " dense_8 (Dense)             (None, 128)               1048704   \n",
            "                                                                 \n",
            " dense_9 (Dense)             (None, 10)                1290      \n",
            "                                                                 \n",
            "=================================================================\n",
            "Total params: 1,060,138\n",
            "Trainable params: 1,060,138\n",
            "Non-trainable params: 0\n",
            "_________________________________________________________________\n"
          ]
        }
      ]
    },
    {
      "cell_type": "code",
      "source": [
        "#model fitting\n",
        "result3=model.fit(x_train, y_train,batch_size=128, epochs=20)"
      ],
      "metadata": {
        "colab": {
          "base_uri": "https://localhost:8080/"
        },
        "id": "TR6Swr2fNQtb",
        "outputId": "03e895d0-1c15-4308-9462-561bae1ac7e8"
      },
      "id": "TR6Swr2fNQtb",
      "execution_count": null,
      "outputs": [
        {
          "output_type": "stream",
          "name": "stdout",
          "text": [
            "Epoch 1/20\n",
            "391/391 [==============================] - 4s 9ms/step - loss: 2.0581 - accuracy: 0.2720\n",
            "Epoch 2/20\n",
            "391/391 [==============================] - 3s 8ms/step - loss: 1.8152 - accuracy: 0.3642\n",
            "Epoch 3/20\n",
            "391/391 [==============================] - 3s 8ms/step - loss: 1.7079 - accuracy: 0.4009\n",
            "Epoch 4/20\n",
            "391/391 [==============================] - 4s 9ms/step - loss: 1.6252 - accuracy: 0.4276\n",
            "Epoch 5/20\n",
            "391/391 [==============================] - 3s 8ms/step - loss: 1.5489 - accuracy: 0.4556\n",
            "Epoch 6/20\n",
            "391/391 [==============================] - 3s 9ms/step - loss: 1.4830 - accuracy: 0.4760\n",
            "Epoch 7/20\n",
            "391/391 [==============================] - 3s 8ms/step - loss: 1.4183 - accuracy: 0.5011\n",
            "Epoch 8/20\n",
            "391/391 [==============================] - 4s 9ms/step - loss: 1.3590 - accuracy: 0.5209\n",
            "Epoch 9/20\n",
            "391/391 [==============================] - 4s 10ms/step - loss: 1.3086 - accuracy: 0.5399\n",
            "Epoch 10/20\n",
            "391/391 [==============================] - 4s 9ms/step - loss: 1.2630 - accuracy: 0.5580\n",
            "Epoch 11/20\n",
            "391/391 [==============================] - 4s 9ms/step - loss: 1.2206 - accuracy: 0.5720\n",
            "Epoch 12/20\n",
            "391/391 [==============================] - 3s 8ms/step - loss: 1.1785 - accuracy: 0.5881\n",
            "Epoch 13/20\n",
            "391/391 [==============================] - 3s 8ms/step - loss: 1.1449 - accuracy: 0.5984\n",
            "Epoch 14/20\n",
            "391/391 [==============================] - 3s 8ms/step - loss: 1.1123 - accuracy: 0.6102\n",
            "Epoch 15/20\n",
            "391/391 [==============================] - 3s 8ms/step - loss: 1.0782 - accuracy: 0.6229\n",
            "Epoch 16/20\n",
            "391/391 [==============================] - 3s 8ms/step - loss: 1.0487 - accuracy: 0.6341\n",
            "Epoch 17/20\n",
            "391/391 [==============================] - 3s 8ms/step - loss: 1.0161 - accuracy: 0.6460\n",
            "Epoch 18/20\n",
            "391/391 [==============================] - 3s 8ms/step - loss: 0.9867 - accuracy: 0.6575\n",
            "Epoch 19/20\n",
            "391/391 [==============================] - 3s 8ms/step - loss: 0.9603 - accuracy: 0.6647\n",
            "Epoch 20/20\n",
            "391/391 [==============================] - 3s 8ms/step - loss: 0.9346 - accuracy: 0.6750\n"
          ]
        }
      ]
    },
    {
      "cell_type": "markdown",
      "id": "56a522a6",
      "metadata": {
        "papermill": {
          "duration": 0.514149,
          "end_time": "2021-08-25T17:15:57.840919",
          "exception": false,
          "start_time": "2021-08-25T17:15:57.326770",
          "status": "completed"
        },
        "tags": [],
        "id": "56a522a6"
      },
      "source": [
        "## 11. Evaluate the two models by using two metrics, loss and accuracy."
      ]
    },
    {
      "cell_type": "code",
      "execution_count": null,
      "id": "bb65bb4e",
      "metadata": {
        "execution": {
          "iopub.execute_input": "2021-08-25T17:15:58.914554Z",
          "iopub.status.busy": "2021-08-25T17:15:58.913629Z",
          "iopub.status.idle": "2021-08-25T17:15:59.115569Z",
          "shell.execute_reply": "2021-08-25T17:15:59.115985Z",
          "shell.execute_reply.started": "2021-08-25T16:35:39.506327Z"
        },
        "papermill": {
          "duration": 0.727302,
          "end_time": "2021-08-25T17:15:59.116150",
          "exception": false,
          "start_time": "2021-08-25T17:15:58.388848",
          "status": "completed"
        },
        "tags": [],
        "colab": {
          "base_uri": "https://localhost:8080/",
          "height": 336
        },
        "id": "bb65bb4e",
        "outputId": "cc4db620-824d-463c-b55a-9fbc51461e55"
      },
      "outputs": [
        {
          "output_type": "display_data",
          "data": {
            "text/plain": [
              "<Figure size 720x360 with 2 Axes>"
            ],
            "image/png": "[encoded data removed]"
          },
          "metadata": {
            "needs_background": "light"
          }
        }
      ],
      "source": [
        "#Evaluate the two models by using two metrics, loss and accuracy.\n",
        "metrics = ['loss', 'accuracy']\n",
        "#show the evaluation result by using matoplot.\n",
        "plt.figure(figsize=(10, 5))\n",
        "#Use \"For Loop\".\n",
        "for i in range(len(metrics)):\n",
        "    metric = metrics[i]\n",
        "    #set subplots to show the result\n",
        "    plt.subplot(1, 2, i+1)\n",
        "    #Titles of subplots are \"loss\" and \"accuracy\"\n",
        "    plt.title(metric) \n",
        "    plt_result1 = result1.history[metric] \n",
        "    plt_result3 = result3.history[metric]\n",
        "   \n",
        "\n",
        "    #plot them all\n",
        "    plt.plot(plt_result1, label='1st model') \n",
        "    plt.plot(plt_result3, label='3rd model') \n",
        "   \n",
        "    plt.legend() \n",
        "plt.show()"
      ]
    },
    {
      "cell_type": "code",
      "source": [],
      "metadata": {
        "id": "ODTXPRy1Sd5S"
      },
      "id": "ODTXPRy1Sd5S",
      "execution_count": null,
      "outputs": []
    },
    {
      "cell_type": "markdown",
      "source": [
        "#4th model using Nadam"
      ],
      "metadata": {
        "id": "WWrvlJeYShlF"
      },
      "id": "WWrvlJeYShlF"
    },
    {
      "cell_type": "code",
      "source": [
        "#Build 4rd model.\n",
        "model = Sequential()\n",
        "model.add(Conv2D(32,(3,3), activation='relu',padding='same', input_shape=x_train.shape[1:]))\n",
        "model.add(Conv2D(32,(3,3),padding='same', activation='relu'))\n",
        "model.add(MaxPooling2D(pool_size=(2, 2)))\n",
        "model.add(Flatten())\n",
        "model.add(Dense(128, activation='relu'))\n",
        "model.add(Dense(10, activation='softmax'))\n",
        "model.compile(optimizer='Nadam',loss='categorical_crossentropy', metrics=['accuracy'])\n",
        "model.summary()"
      ],
      "metadata": {
        "colab": {
          "base_uri": "https://localhost:8080/"
        },
        "id": "5FCmoU6PSd7n",
        "outputId": "1f3bde88-9820-48e4-dc63-4da75ba0bfa4"
      },
      "id": "5FCmoU6PSd7n",
      "execution_count": null,
      "outputs": [
        {
          "output_type": "stream",
          "name": "stdout",
          "text": [
            "Model: \"sequential_5\"\n",
            "_________________________________________________________________\n",
            " Layer (type)                Output Shape              Param #   \n",
            "=================================================================\n",
            " conv2d_10 (Conv2D)          (None, 32, 32, 32)        896       \n",
            "                                                                 \n",
            " conv2d_11 (Conv2D)          (None, 32, 32, 32)        9248      \n",
            "                                                                 \n",
            " max_pooling2d_5 (MaxPooling  (None, 16, 16, 32)       0         \n",
            " 2D)                                                             \n",
            "                                                                 \n",
            " flatten_5 (Flatten)         (None, 8192)              0         \n",
            "                                                                 \n",
            " dense_10 (Dense)            (None, 128)               1048704   \n",
            "                                                                 \n",
            " dense_11 (Dense)            (None, 10)                1290      \n",
            "                                                                 \n",
            "=================================================================\n",
            "Total params: 1,060,138\n",
            "Trainable params: 1,060,138\n",
            "Non-trainable params: 0\n",
            "_________________________________________________________________\n"
          ]
        }
      ]
    },
    {
      "cell_type": "code",
      "source": [
        "#model fitting\n",
        "result4=model.fit(x_train, y_train,batch_size=128, epochs=20)"
      ],
      "metadata": {
        "colab": {
          "base_uri": "https://localhost:8080/"
        },
        "id": "O8JPIU8rSd98",
        "outputId": "17ff40a8-9be4-40aa-d2cd-454e5a70c509"
      },
      "id": "O8JPIU8rSd98",
      "execution_count": null,
      "outputs": [
        {
          "output_type": "stream",
          "name": "stdout",
          "text": [
            "Epoch 1/20\n",
            "391/391 [==============================] - 5s 10ms/step - loss: 1.5287 - accuracy: 0.4575\n",
            "Epoch 2/20\n",
            "391/391 [==============================] - 4s 9ms/step - loss: 1.1037 - accuracy: 0.6123\n",
            "Epoch 3/20\n",
            "391/391 [==============================] - 4s 10ms/step - loss: 0.9346 - accuracy: 0.6721\n",
            "Epoch 4/20\n",
            "391/391 [==============================] - 4s 9ms/step - loss: 0.8234 - accuracy: 0.7134\n",
            "Epoch 5/20\n",
            "391/391 [==============================] - 4s 9ms/step - loss: 0.7335 - accuracy: 0.7448\n",
            "Epoch 6/20\n",
            "391/391 [==============================] - 4s 9ms/step - loss: 0.6487 - accuracy: 0.7740\n",
            "Epoch 7/20\n",
            "391/391 [==============================] - 4s 9ms/step - loss: 0.5615 - accuracy: 0.8039\n",
            "Epoch 8/20\n",
            "391/391 [==============================] - 4s 9ms/step - loss: 0.4800 - accuracy: 0.8342\n",
            "Epoch 9/20\n",
            "391/391 [==============================] - 4s 9ms/step - loss: 0.3998 - accuracy: 0.8635\n",
            "Epoch 10/20\n",
            "391/391 [==============================] - 4s 9ms/step - loss: 0.3228 - accuracy: 0.8908\n",
            "Epoch 11/20\n",
            "391/391 [==============================] - 4s 9ms/step - loss: 0.2510 - accuracy: 0.9155\n",
            "Epoch 12/20\n",
            "391/391 [==============================] - 3s 9ms/step - loss: 0.1907 - accuracy: 0.9374\n",
            "Epoch 13/20\n",
            "391/391 [==============================] - 4s 9ms/step - loss: 0.1425 - accuracy: 0.9545\n",
            "Epoch 14/20\n",
            "391/391 [==============================] - 4s 9ms/step - loss: 0.1075 - accuracy: 0.9675\n",
            "Epoch 15/20\n",
            "391/391 [==============================] - 4s 11ms/step - loss: 0.0816 - accuracy: 0.9757\n",
            "Epoch 16/20\n",
            "391/391 [==============================] - 4s 9ms/step - loss: 0.0642 - accuracy: 0.9812\n",
            "Epoch 17/20\n",
            "391/391 [==============================] - 4s 9ms/step - loss: 0.0585 - accuracy: 0.9826\n",
            "Epoch 18/20\n",
            "391/391 [==============================] - 4s 9ms/step - loss: 0.0554 - accuracy: 0.9830\n",
            "Epoch 19/20\n",
            "391/391 [==============================] - 4s 9ms/step - loss: 0.0615 - accuracy: 0.9801\n",
            "Epoch 20/20\n",
            "391/391 [==============================] - 4s 9ms/step - loss: 0.0496 - accuracy: 0.9836\n"
          ]
        }
      ]
    },
    {
      "cell_type": "markdown",
      "source": [
        "#5th model using Adamax"
      ],
      "metadata": {
        "id": "QXJNabuoTEAv"
      },
      "id": "QXJNabuoTEAv"
    },
    {
      "cell_type": "code",
      "source": [
        "#Build 5th model.\n",
        "model = Sequential()\n",
        "model.add(Conv2D(32,(3,3), activation='relu',padding='same', input_shape=x_train.shape[1:]))\n",
        "model.add(Conv2D(32,(3,3),padding='same', activation='relu'))\n",
        "model.add(MaxPooling2D(pool_size=(2, 2)))\n",
        "model.add(Flatten())\n",
        "model.add(Dense(128, activation='relu'))\n",
        "model.add(Dense(10, activation='softmax'))\n",
        "model.compile(optimizer='Adamax',loss='categorical_crossentropy', metrics=['accuracy'])\n",
        "model.summary()"
      ],
      "metadata": {
        "colab": {
          "base_uri": "https://localhost:8080/"
        },
        "id": "U9KdGvOLSeAY",
        "outputId": "866352ed-ef00-4036-a09c-7bc8464a4675"
      },
      "id": "U9KdGvOLSeAY",
      "execution_count": null,
      "outputs": [
        {
          "output_type": "stream",
          "name": "stdout",
          "text": [
            "Model: \"sequential_6\"\n",
            "_________________________________________________________________\n",
            " Layer (type)                Output Shape              Param #   \n",
            "=================================================================\n",
            " conv2d_12 (Conv2D)          (None, 32, 32, 32)        896       \n",
            "                                                                 \n",
            " conv2d_13 (Conv2D)          (None, 32, 32, 32)        9248      \n",
            "                                                                 \n",
            " max_pooling2d_6 (MaxPooling  (None, 16, 16, 32)       0         \n",
            " 2D)                                                             \n",
            "                                                                 \n",
            " flatten_6 (Flatten)         (None, 8192)              0         \n",
            "                                                                 \n",
            " dense_12 (Dense)            (None, 128)               1048704   \n",
            "                                                                 \n",
            " dense_13 (Dense)            (None, 10)                1290      \n",
            "                                                                 \n",
            "=================================================================\n",
            "Total params: 1,060,138\n",
            "Trainable params: 1,060,138\n",
            "Non-trainable params: 0\n",
            "_________________________________________________________________\n"
          ]
        }
      ]
    },
    {
      "cell_type": "code",
      "source": [
        "#model fitting\n",
        "result5=model.fit(x_train, y_train,batch_size=128, epochs=20)"
      ],
      "metadata": {
        "colab": {
          "base_uri": "https://localhost:8080/"
        },
        "id": "JrzqIerDSeDK",
        "outputId": "c9f3a345-99b8-470d-97bb-18b3d90ffbc6"
      },
      "id": "JrzqIerDSeDK",
      "execution_count": null,
      "outputs": [
        {
          "output_type": "stream",
          "name": "stdout",
          "text": [
            "Epoch 1/20\n",
            "391/391 [==============================] - 4s 8ms/step - loss: 1.6244 - accuracy: 0.4214\n",
            "Epoch 2/20\n",
            "391/391 [==============================] - 3s 8ms/step - loss: 1.2986 - accuracy: 0.5449\n",
            "Epoch 3/20\n",
            "391/391 [==============================] - 3s 8ms/step - loss: 1.1460 - accuracy: 0.5996\n",
            "Epoch 4/20\n",
            "391/391 [==============================] - 3s 8ms/step - loss: 1.0438 - accuracy: 0.6359\n",
            "Epoch 5/20\n",
            "391/391 [==============================] - 3s 8ms/step - loss: 0.9681 - accuracy: 0.6675\n",
            "Epoch 6/20\n",
            "391/391 [==============================] - 3s 8ms/step - loss: 0.9057 - accuracy: 0.6876\n",
            "Epoch 7/20\n",
            "391/391 [==============================] - 3s 8ms/step - loss: 0.8529 - accuracy: 0.7061\n",
            "Epoch 8/20\n",
            "391/391 [==============================] - 3s 8ms/step - loss: 0.8060 - accuracy: 0.7213\n",
            "Epoch 9/20\n",
            "391/391 [==============================] - 3s 8ms/step - loss: 0.7592 - accuracy: 0.7366\n",
            "Epoch 10/20\n",
            "391/391 [==============================] - 3s 8ms/step - loss: 0.7214 - accuracy: 0.7511\n",
            "Epoch 11/20\n",
            "391/391 [==============================] - 3s 8ms/step - loss: 0.6833 - accuracy: 0.7642\n",
            "Epoch 12/20\n",
            "391/391 [==============================] - 3s 8ms/step - loss: 0.6453 - accuracy: 0.7767\n",
            "Epoch 13/20\n",
            "391/391 [==============================] - 3s 8ms/step - loss: 0.6062 - accuracy: 0.7932\n",
            "Epoch 14/20\n",
            "391/391 [==============================] - 3s 8ms/step - loss: 0.5696 - accuracy: 0.8068\n",
            "Epoch 15/20\n",
            "391/391 [==============================] - 3s 8ms/step - loss: 0.5352 - accuracy: 0.8184\n",
            "Epoch 16/20\n",
            "391/391 [==============================] - 3s 8ms/step - loss: 0.4971 - accuracy: 0.8307\n",
            "Epoch 17/20\n",
            "391/391 [==============================] - 4s 10ms/step - loss: 0.4610 - accuracy: 0.8459\n",
            "Epoch 18/20\n",
            "391/391 [==============================] - 3s 8ms/step - loss: 0.4218 - accuracy: 0.8606\n",
            "Epoch 19/20\n",
            "391/391 [==============================] - 3s 8ms/step - loss: 0.3859 - accuracy: 0.8736\n",
            "Epoch 20/20\n",
            "391/391 [==============================] - 3s 8ms/step - loss: 0.3531 - accuracy: 0.8862\n"
          ]
        }
      ]
    },
    {
      "cell_type": "markdown",
      "id": "d43c7547",
      "metadata": {
        "papermill": {
          "duration": 0.558752,
          "end_time": "2021-08-25T17:16:00.185709",
          "exception": false,
          "start_time": "2021-08-25T17:15:59.626957",
          "status": "completed"
        },
        "tags": [],
        "id": "d43c7547"
      },
      "source": [
        "The 1st model is better."
      ]
    },
    {
      "cell_type": "markdown",
      "id": "031e0c9a",
      "metadata": {
        "papermill": {
          "duration": 0.544546,
          "end_time": "2021-08-25T17:16:01.263687",
          "exception": false,
          "start_time": "2021-08-25T17:16:00.719141",
          "status": "completed"
        },
        "tags": [],
        "id": "031e0c9a"
      },
      "source": [
        "## 12. How to predict a single photo data?"
      ]
    },
    {
      "cell_type": "code",
      "execution_count": null,
      "id": "5bcb577a",
      "metadata": {
        "execution": {
          "iopub.execute_input": "2021-08-25T17:16:02.640440Z",
          "iopub.status.busy": "2021-08-25T17:16:02.639412Z",
          "iopub.status.idle": "2021-08-25T17:16:02.748082Z",
          "shell.execute_reply": "2021-08-25T17:16:02.748508Z",
          "shell.execute_reply.started": "2021-08-25T16:36:34.867611Z"
        },
        "papermill": {
          "duration": 0.710831,
          "end_time": "2021-08-25T17:16:02.748656",
          "exception": false,
          "start_time": "2021-08-25T17:16:02.037825",
          "status": "completed"
        },
        "tags": [],
        "colab": {
          "base_uri": "https://localhost:8080/",
          "height": 283
        },
        "id": "5bcb577a",
        "outputId": "404453f9-adb7-41b1-de59-90e627b2b610"
      },
      "outputs": [
        {
          "output_type": "execute_result",
          "data": {
            "text/plain": [
              "<matplotlib.image.AxesImage at 0x7f3ed6141750>"
            ]
          },
          "metadata": {},
          "execution_count": 13
        },
        {
          "output_type": "display_data",
          "data": {
            "text/plain": [
              "<Figure size 432x288 with 1 Axes>"
            ],
            "image/png": "[encoded data removed]"
          },
          "metadata": {
            "needs_background": "light"
          }
        }
      ],
      "source": [
        "plt.imshow(x_test[[98]].reshape(32,32,3))"
      ]
    },
    {
      "cell_type": "code",
      "execution_count": null,
      "id": "89e9344c",
      "metadata": {
        "execution": {
          "iopub.execute_input": "2021-08-25T17:16:03.721809Z",
          "iopub.status.busy": "2021-08-25T17:16:03.721005Z",
          "iopub.status.idle": "2021-08-25T17:16:03.852953Z",
          "shell.execute_reply": "2021-08-25T17:16:03.853594Z",
          "shell.execute_reply.started": "2021-08-25T16:36:42.104404Z"
        },
        "papermill": {
          "duration": 0.622881,
          "end_time": "2021-08-25T17:16:03.853749",
          "exception": false,
          "start_time": "2021-08-25T17:16:03.230868",
          "status": "completed"
        },
        "tags": [],
        "colab": {
          "base_uri": "https://localhost:8080/"
        },
        "id": "89e9344c",
        "outputId": "0466d0bc-8582-44f7-fd8e-70f029d540df"
      },
      "outputs": [
        {
          "output_type": "stream",
          "name": "stdout",
          "text": [
            "1/1 [==============================] - 0s 132ms/step\n"
          ]
        },
        {
          "output_type": "execute_result",
          "data": {
            "text/plain": [
              "array([[1.0000000e+00, 4.5414678e-34, 3.8840263e-08, 5.1630016e-14,\n",
              "        1.7126353e-21, 7.7899334e-25, 1.4114840e-17, 6.5518670e-21,\n",
              "        4.7645511e-37, 1.7971388e-32]], dtype=float32)"
            ]
          },
          "metadata": {},
          "execution_count": 14
        }
      ],
      "source": [
        "#Let's predict.\n",
        "prediction=model.predict(x_test[[98]]) \n",
        "prediction"
      ]
    },
    {
      "cell_type": "code",
      "execution_count": null,
      "id": "88770cc7",
      "metadata": {
        "execution": {
          "iopub.execute_input": "2021-08-25T17:16:04.834708Z",
          "iopub.status.busy": "2021-08-25T17:16:04.833987Z",
          "iopub.status.idle": "2021-08-25T17:16:04.837894Z",
          "shell.execute_reply": "2021-08-25T17:16:04.837486Z",
          "shell.execute_reply.started": "2021-08-25T16:45:56.106373Z"
        },
        "papermill": {
          "duration": 0.492543,
          "end_time": "2021-08-25T17:16:04.838011",
          "exception": false,
          "start_time": "2021-08-25T17:16:04.345468",
          "status": "completed"
        },
        "tags": [],
        "colab": {
          "base_uri": "https://localhost:8080/"
        },
        "id": "88770cc7",
        "outputId": "0c8bee15-994b-4d44-f1cd-431cfe8303bf"
      },
      "outputs": [
        {
          "output_type": "stream",
          "name": "stdout",
          "text": [
            "The answer is airplane !\n"
          ]
        }
      ],
      "source": [
        "names=[\"airplane\",\"automobile\",\"bird\",\"cat\",\"deer\",\"dog\",\"frog\",\"horse\",\"ship\",\"truck\"]\n",
        "#Preparation for this predction. \n",
        "list1=[]\n",
        "[list1.append(i) for i in range(26)]\n",
        "list2=[]\n",
        "[list2.append(i) for i in names]\n",
        "dic = dict(zip(list1, list2))\n",
        "#Let's check the result.\n",
        "print(\"The answer is\",dic[np.argmax(prediction)],\"!\")"
      ]
    },
    {
      "cell_type": "markdown",
      "id": "427db0e3",
      "metadata": {
        "papermill": {
          "duration": 0.486432,
          "end_time": "2021-08-25T17:16:05.807899",
          "exception": false,
          "start_time": "2021-08-25T17:16:05.321467",
          "status": "completed"
        },
        "tags": [],
        "id": "427db0e3"
      },
      "source": [
        "<B>\"Correct!\"<B>"
      ]
    }
  ],
  "metadata": {
    "kernelspec": {
      "display_name": "Python 3",
      "language": "python",
      "name": "python3"
    },
    "language_info": {
      "codemirror_mode": {
        "name": "ipython",
        "version": 3
      },
      "file_extension": ".py",
      "mimetype": "text/x-python",
      "name": "python",
      "nbconvert_exporter": "python",
      "pygments_lexer": "ipython3",
      "version": "3.7.10"
    },
    "papermill": {
      "default_parameters": {},
      "duration": 135.854542,
      "end_time": "2021-08-25T17:16:12.365250",
      "environment_variables": {},
      "exception": null,
      "input_path": "__notebook__.ipynb",
      "output_path": "__notebook__.ipynb",
      "parameters": {},
      "start_time": "2021-08-25T17:13:56.510708",
      "version": "2.3.3"
    },
    "colab": {
      "provenance": []
    },
    "accelerator": "GPU",
    "gpuClass": "standard"
  },
  "nbformat": 4,
  "nbformat_minor": 5
}